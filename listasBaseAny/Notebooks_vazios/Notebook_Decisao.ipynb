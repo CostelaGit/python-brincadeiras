{
 "cells": [
  {
   "cell_type": "markdown",
   "id": "ec06103c",
   "metadata": {},
   "source": [
    "Seguindo a listaBaseAny, \n",
    "\n",
    "1. Sequencia \n",
    "2. Decisão  ⬅\n",
    "3. Repetição\n",
    "4. Lista\n",
    "5. Função\n",
    "6. ComString\n",
    "7. ComArquivo\n",
    "8. Classes\n"
   ]
  },
  {
   "cell_type": "markdown",
   "id": "a07aaac6",
   "metadata": {},
   "source": [
    "Faça um Programa que peça dois números e imprima o maior deles."
   ]
  },
  {
   "cell_type": "code",
   "execution_count": null,
   "id": "67aa1009",
   "metadata": {},
   "outputs": [],
   "source": []
  },
  {
   "cell_type": "markdown",
   "id": "4fe64cbb",
   "metadata": {},
   "source": [
    "Faça um Programa que peça um valor e mostre na tela se o valor é positivo ou negativo.\n"
   ]
  },
  {
   "cell_type": "code",
   "execution_count": null,
   "id": "0c68345c",
   "metadata": {},
   "outputs": [],
   "source": []
  },
  {
   "cell_type": "markdown",
   "id": "460a205f",
   "metadata": {},
   "source": [
    "Faça um Programa que verifique se uma letra digitada é \"F\" ou \"M\". Conforme a letra escrever: F - Feminino, M - Masculino, Sexo Inválido.\n"
   ]
  },
  {
   "cell_type": "code",
   "execution_count": null,
   "id": "7efa9381",
   "metadata": {},
   "outputs": [],
   "source": []
  },
  {
   "cell_type": "markdown",
   "id": "dd1d32ff",
   "metadata": {},
   "source": [
    "Faça um Programa que verifique se uma letra digitada é vogal ou consoante.\n"
   ]
  },
  {
   "cell_type": "code",
   "execution_count": null,
   "id": "8f210a3d",
   "metadata": {},
   "outputs": [],
   "source": []
  },
  {
   "cell_type": "markdown",
   "id": "b9c6f89a",
   "metadata": {},
   "source": [
    "Faça um programa para a leitura de duas notas parciais de um aluno. O programa deve calcular a média alcançada por aluno e apresentar:\n",
    "\n",
    "    A mensagem \"Aprovado\", se a média alcançada for maior ou igual a sete;\n",
    "    A mensagem \"Reprovado\", se a média for menor do que sete;\n",
    "    A mensagem \"Aprovado com Distinção\", se a média for igual a dez. \n"
   ]
  },
  {
   "cell_type": "code",
   "execution_count": null,
   "id": "58ed6739",
   "metadata": {},
   "outputs": [],
   "source": []
  },
  {
   "cell_type": "markdown",
   "id": "54852b60",
   "metadata": {},
   "source": [
    "Faça um Programa que leia três números e mostre o maior deles."
   ]
  },
  {
   "cell_type": "code",
   "execution_count": null,
   "id": "c3481931",
   "metadata": {},
   "outputs": [],
   "source": []
  }
 ],
 "metadata": {
  "kernelspec": {
   "display_name": "Python 3 (ipykernel)",
   "language": "python",
   "name": "python3"
  },
  "language_info": {
   "codemirror_mode": {
    "name": "ipython",
    "version": 3
   },
   "file_extension": ".py",
   "mimetype": "text/x-python",
   "name": "python",
   "nbconvert_exporter": "python",
   "pygments_lexer": "ipython3",
   "version": "3.13.2"
  }
 },
 "nbformat": 4,
 "nbformat_minor": 5
}
