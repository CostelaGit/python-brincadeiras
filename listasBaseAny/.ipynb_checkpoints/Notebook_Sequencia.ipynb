{
 "cells": [
  {
   "cell_type": "markdown",
   "id": "ec06103c",
   "metadata": {},
   "source": [
    "Seguindo a listaBaseAny, \n",
    "\n",
    "1. Sequencia ⬅\n",
    "2. Decisão\n",
    "3. Repetição\n",
    "4. Lista\n",
    "5. Função\n",
    "6. ComString\n",
    "7. ComArquivo\n",
    "8. Classes\n"
   ]
  }
 ],
 "metadata": {
  "language_info": {
   "name": "python"
  }
 },
 "nbformat": 4,
 "nbformat_minor": 5
}
