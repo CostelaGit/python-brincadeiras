{
 "cells": [
  {
   "cell_type": "markdown",
   "id": "ec06103c",
   "metadata": {},
   "source": [
    "Seguindo a listaBaseAny, \n",
    "\n",
    "1. Sequencia \n",
    "2. Decisão  ⬅\n",
    "3. Repetição\n",
    "4. Lista\n",
    "5. Função\n",
    "6. ComString\n",
    "7. ComArquivo\n",
    "8. Classes\n"
   ]
  },
  {
   "cell_type": "markdown",
   "id": "a07aaac6",
   "metadata": {},
   "source": [
    "Faça um Programa que peça dois números e imprima o maior deles."
   ]
  },
  {
   "cell_type": "code",
   "execution_count": null,
   "id": "67aa1009",
   "metadata": {},
   "outputs": [
    {
     "name": "stdout",
     "output_type": "stream",
     "text": [
      "4.0\n"
     ]
    }
   ],
   "source": [
    "num1 = float(input('digite o primeiro numero: '))\n",
    "num2 = float(input('digite o segundo numero: '))\n",
    "\n",
    "print(num1) if num1 > num2 else print(num2)"
   ]
  }
 ],
 "metadata": {
  "kernelspec": {
   "display_name": "Python 3",
   "language": "python",
   "name": "python3"
  },
  "language_info": {
   "codemirror_mode": {
    "name": "ipython",
    "version": 3
   },
   "file_extension": ".py",
   "mimetype": "text/x-python",
   "name": "python",
   "nbconvert_exporter": "python",
   "pygments_lexer": "ipython3",
   "version": "3.13.1"
  }
 },
 "nbformat": 4,
 "nbformat_minor": 5
}
