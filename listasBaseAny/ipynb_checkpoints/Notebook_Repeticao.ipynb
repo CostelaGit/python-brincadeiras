{
 "cells": [
  {
   "cell_type": "markdown",
   "metadata": {},
   "source": [
    "Seguindo a listaBaseAny, \n",
    "\n",
    "1. Sequencia \n",
    "2. Decisão  \n",
    "3. Repetição ⬅\n",
    "4. Lista\n",
    "5. Função\n",
    "6. ComString\n",
    "7. ComArquivo\n",
    "8. Classes\n"
   ]
  },
  {
   "cell_type": "markdown",
   "metadata": {},
   "source": [
    "Faça um programa que peça uma nota, entre zero e dez. Mostre uma mensagem caso o valor seja inválido e continue pedindo até que o usuário informe um valor válido.\n"
   ]
  },
  {
   "cell_type": "code",
   "execution_count": null,
   "metadata": {},
   "outputs": [
    {
     "name": "stdout",
     "output_type": "stream",
     "text": [
      "Nota válida: 4\n"
     ]
    }
   ],
   "source": [
    "x = int(input('Digite uma nota entre 0 e 10: '))\n",
    "\n",
    "while x < 0 or x > 10:  \n",
    "    print('Valor inválido, digite novamente.')\n",
    "    x = int(input('Digite uma nota entre 0 e 10: '))\n",
    "\n",
    "print(f'Nota válida: {x}')\n",
    "..."
   ]
  },
  {
   "cell_type": "markdown",
   "metadata": {},
   "source": [
    "Faça um programa que leia um nome de usuário e a sua senha e não aceite a senha igual ao nome do usuário, mostrando uma mensagem de erro e voltando a pedir as informações.\n"
   ]
  },
  {
   "cell_type": "code",
   "execution_count": null,
   "metadata": {},
   "outputs": [],
   "source": [
    "nome = input('digite o nome de usuario: ')\n",
    "senha = input('digite a senha: ')\n",
    "\n",
    "while nome == senha:\n",
    "    print('não pode o nome ser igual a senha \\n')\n",
    "    nome = input('digite o nome de usuario: ')\n",
    "    senha = input('digite a senha: ')\n",
    "\n",
    "print('cadastro feito com sucesso ✔')"
   ]
  },
  {
   "cell_type": "markdown",
   "metadata": {},
   "source": [
    "Faça um programa que leia e valide as seguintes informações:\n",
    "\n",
    "Nome: maior que 3 caracteres;\n",
    "    Idade: entre 0 e 150;\n",
    "    Salário: maior que zero;\n",
    "    Sexo: 'f' ou 'm';\n",
    "    Estado Civil: 's', 'c', 'v', 'd'; "
   ]
  },
  {
   "cell_type": "code",
   "execution_count": null,
   "metadata": {},
   "outputs": [],
   "source": []
  },
  {
   "cell_type": "markdown",
   "metadata": {},
   "source": [
    "Supondo que a população de um país A seja da ordem de 80000 habitantes com uma taxa anual de crescimento de 3% e que a população de B seja 200000 habitantes com uma taxa de crescimento de 1.5%. Faça um programa que calcule e escreva o número de anos necessários para que a população do país A ultrapasse ou iguale a população do país B, mantidas as taxas de crescimento.\n"
   ]
  },
  {
   "cell_type": "code",
   "execution_count": null,
   "metadata": {},
   "outputs": [],
   "source": []
  }
 ],
 "metadata": {
  "kernelspec": {
   "display_name": "Python 3",
   "language": "python",
   "name": "python3"
  },
  "language_info": {
   "codemirror_mode": {
    "name": "ipython",
    "version": 3
   },
   "file_extension": ".py",
   "mimetype": "text/x-python",
   "name": "python",
   "nbconvert_exporter": "python",
   "pygments_lexer": "ipython3",
   "version": "3.13.1"
  }
 },
 "nbformat": 4,
 "nbformat_minor": 2
}
