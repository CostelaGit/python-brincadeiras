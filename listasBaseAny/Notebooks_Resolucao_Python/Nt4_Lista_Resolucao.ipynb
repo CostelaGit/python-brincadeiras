{
 "cells": [
  {
   "metadata": {},
   "cell_type": "markdown",
   "source": [
    "Seguindo a listaBaseAny,\n",
    "\n",
    "1. Sequencia\n",
    "2. Decisão\n",
    "3. Repetição\n",
    "4. Lista ⬅\n",
    "5. Função\n",
    "6. ComString\n",
    "7. ComArquivo\n",
    "8. Classes\n"
   ],
   "id": "740f934366f8dec1"
  },
  {
   "metadata": {},
   "cell_type": "markdown",
   "source": [
    "    Faça um Programa que leia um vetor de 5 números inteiros e mostre-os.\n",
    "\n"
   ],
   "id": "89b7379dff696072"
  },
  {
   "metadata": {
    "ExecuteTime": {
     "end_time": "2025-04-19T10:56:32.223623Z",
     "start_time": "2025-04-19T10:56:32.220047Z"
    }
   },
   "cell_type": "code",
   "source": [
    "a = [2,3,4,5,6]\n",
    "print(a)"
   ],
   "id": "a21c8d20f358a2dd",
   "outputs": [
    {
     "name": "stdout",
     "output_type": "stream",
     "text": [
      "[2, 3, 4, 5, 6]\n"
     ]
    }
   ],
   "execution_count": 3
  },
  {
   "metadata": {},
   "cell_type": "markdown",
   "source": "    Faça um Programa que leia um vetor de 10 números reais e mostre-os na ordem inversa.\n",
   "id": "a70af1b9b71a2feb"
  },
  {
   "metadata": {
    "ExecuteTime": {
     "end_time": "2025-04-19T11:53:53.229229Z",
     "start_time": "2025-04-19T11:53:53.226246Z"
    }
   },
   "cell_type": "code",
   "source": [
    "a = [10.2, 22.3, 33.4 , 44.5 , 55.6 , 66.7 , 77.1 , 82.3 , 912.2, 1010.2 ]\n",
    "a.reverse() # é uma forma... mas acho q não é pra seguir dessa maneira\n",
    "print(a)"
   ],
   "id": "21ab126630c9e0a7",
   "outputs": [
    {
     "name": "stdout",
     "output_type": "stream",
     "text": [
      "[1010.2, 912.2, 82.3, 77.1, 66.7, 55.6, 44.5, 33.4, 22.3, 10.2]\n"
     ]
    }
   ],
   "execution_count": 11
  },
  {
   "metadata": {},
   "cell_type": "markdown",
   "source": "    Faça um Programa que leia 4 notas, mostre as notas e a média na tela.\n",
   "id": "7fe2caf6ec071b54"
  },
  {
   "metadata": {},
   "cell_type": "code",
   "outputs": [],
   "execution_count": null,
   "source": "a = [4, 7, 9, 6]\n",
   "id": "831053c8a162c9a2"
  },
  {
   "metadata": {},
   "cell_type": "markdown",
   "source": "    Faça um Programa que leia um vetor de 10 caracteres, e diga quantas consoantes foram lidas. Imprima as consoantes.\n",
   "id": "27bc3f3c222363c"
  },
  {
   "metadata": {},
   "cell_type": "code",
   "outputs": [],
   "execution_count": null,
   "source": "",
   "id": "b53beed1694a47b6"
  },
  {
   "metadata": {},
   "cell_type": "markdown",
   "source": "    Faça um Programa que leia 20 números inteiros e armazene-os num vetor. Armazene os números pares no vetor PAR e os números IMPARES no vetor impar. Imprima os três vetores.\n",
   "id": "9d0d34ba3d45ee34"
  },
  {
   "metadata": {},
   "cell_type": "code",
   "outputs": [],
   "execution_count": null,
   "source": "",
   "id": "4be8043bfc520a5a"
  }
 ],
 "metadata": {
  "kernelspec": {
   "display_name": "Python 3",
   "language": "python",
   "name": "python3"
  },
  "language_info": {
   "codemirror_mode": {
    "name": "ipython",
    "version": 2
   },
   "file_extension": ".py",
   "mimetype": "text/x-python",
   "name": "python",
   "nbconvert_exporter": "python",
   "pygments_lexer": "ipython2",
   "version": "2.7.6"
  }
 },
 "nbformat": 4,
 "nbformat_minor": 5
}
