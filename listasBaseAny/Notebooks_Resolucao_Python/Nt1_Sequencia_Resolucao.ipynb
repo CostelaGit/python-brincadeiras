{
 "cells": [
  {
   "cell_type": "markdown",
   "id": "ec06103c",
   "metadata": {},
   "source": [
    "Seguindo a listaBaseAny, \n",
    "\n",
    "1. Sequencia ⬅\n",
    "2. Decisão\n",
    "3. Repetição\n",
    "4. Lista\n",
    "5. Função\n",
    "6. ComString\n",
    "7. ComArquivo\n",
    "8. Classes\n"
   ]
  },
  {
   "cell_type": "markdown",
   "id": "a08fcca8",
   "metadata": {},
   "source": [
    "Faça um Programa que mostre a mensagem \"Alo mundo\" na tela."
   ]
  },
  {
   "cell_type": "code",
   "execution_count": null,
   "id": "a8b9e216",
   "metadata": {},
   "outputs": [],
   "source": [
    "print('Alo mundo')"
   ]
  },
  {
   "cell_type": "markdown",
   "id": "40b9b6a6",
   "metadata": {},
   "source": [
    "Faça um Programa que peça um número e então mostre a mensagem O número informado foi [número].\n"
   ]
  },
  {
   "cell_type": "code",
   "execution_count": null,
   "id": "a3f4ddf4",
   "metadata": {},
   "outputs": [],
   "source": [
    "x = float(input('digite um numero: '))\n",
    "print(f'o numero informado foi {x}')"
   ]
  },
  {
   "cell_type": "markdown",
   "id": "8fd3a82f",
   "metadata": {},
   "source": [
    "Faça um Programa que peça dois números e imprima a soma."
   ]
  },
  {
   "cell_type": "code",
   "execution_count": null,
   "id": "5999cbbd",
   "metadata": {},
   "outputs": [],
   "source": [
    "num1 = float(input('digite o primeiro numero: '))\n",
    "num2 = float(input('digite o segundo numero: '))\n",
    "\n",
    "soma = num1 + num2\n",
    "\n",
    "print(f'a soma dos dois numeros são: {soma}')"
   ]
  },
  {
   "cell_type": "markdown",
   "id": "4b13a1ff",
   "metadata": {},
   "source": [
    "Faça um Programa que peça as 4 notas bimestrais e mostre a média."
   ]
  },
  {
   "cell_type": "code",
   "execution_count": null,
   "id": "c49705a7",
   "metadata": {},
   "outputs": [],
   "source": [
    "nt1, nt2, nt3, nt4 = float(input('digite a nota 1')), float(input('digite a nota 2')), float(input('digite a nota 3')), float(input('digite a nota 4'))\n",
    "\n",
    "media  = (nt1 + nt2 + nt3 + nt4) / 4\n",
    "\n",
    "print(f'a média é: {media}')"
   ]
  },
  {
   "cell_type": "markdown",
   "id": "0f5368e9-a0d5-4e38-bc36-71b9024fb4a0",
   "metadata": {},
   "source": [
    "Faça um Programa que converta metros para centímetros.\n"
   ]
  },
  {
   "cell_type": "code",
   "execution_count": null,
   "id": "2473ae58-310c-4793-95e1-e159a6eabf33",
   "metadata": {},
   "outputs": [],
   "source": []
  }
 ],
 "metadata": {
  "kernelspec": {
   "display_name": "Venv",
   "language": "python",
   "name": "python3"
  },
  "language_info": {
   "codemirror_mode": {
    "name": "ipython",
    "version": 3
   },
   "file_extension": ".py",
   "mimetype": "text/x-python",
   "name": "python",
   "nbconvert_exporter": "python",
   "pygments_lexer": "ipython3",
   "version": "3.13.2"
  }
 },
 "nbformat": 4,
 "nbformat_minor": 5
}
