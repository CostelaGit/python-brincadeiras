{
 "cells": [
  {
   "cell_type": "markdown",
   "id": "ec06103c",
   "metadata": {},
   "source": [
    "Seguindo a listaBaseAny, \n",
    "\n",
    "1. Sequencia ⬅\n",
    "2. Decisão\n",
    "3. Repetição\n",
    "4. Lista\n",
    "5. Função\n",
    "6. ComString\n",
    "7. ComArquivo\n",
    "8. Classes\n"
   ]
  },
  {
   "cell_type": "markdown",
   "id": "a08fcca8",
   "metadata": {},
   "source": [
    "Faça um Programa que mostre a mensagem \"Alo mundo\" na tela."
   ]
  },
  {
   "cell_type": "code",
   "id": "a8b9e216",
   "metadata": {
    "ExecuteTime": {
     "end_time": "2025-04-19T03:22:46.960614Z",
     "start_time": "2025-04-19T03:22:46.956907Z"
    }
   },
   "source": [
    "print('Alo mundo')"
   ],
   "outputs": [
    {
     "name": "stdout",
     "output_type": "stream",
     "text": [
      "Alo mundo\n"
     ]
    }
   ],
   "execution_count": 1
  },
  {
   "cell_type": "markdown",
   "id": "40b9b6a6",
   "metadata": {},
   "source": [
    "Faça um Programa que peça um número e então mostre a mensagem O número informado foi [número].\n"
   ]
  },
  {
   "cell_type": "code",
   "execution_count": null,
   "id": "a3f4ddf4",
   "metadata": {},
   "outputs": [],
   "source": [
    "x = float(input('digite um numero: '))\n",
    "print(f'o numero informado foi {x}')"
   ]
  },
  {
   "cell_type": "markdown",
   "id": "8fd3a82f",
   "metadata": {},
   "source": [
    "Faça um Programa que peça dois números e imprima a soma."
   ]
  },
  {
   "cell_type": "code",
   "execution_count": null,
   "id": "5999cbbd",
   "metadata": {},
   "outputs": [],
   "source": [
    "num1 = float(input('digite o primeiro numero: '))\n",
    "num2 = float(input('digite o segundo numero: '))\n",
    "\n",
    "soma = num1 + num2\n",
    "\n",
    "print(f'a soma dos dois numeros são: {soma}')"
   ]
  },
  {
   "cell_type": "markdown",
   "id": "4b13a1ff",
   "metadata": {},
   "source": [
    "Faça um Programa que peça as 4 notas bimestrais e mostre a média."
   ]
  },
  {
   "cell_type": "code",
   "execution_count": null,
   "id": "c49705a7",
   "metadata": {},
   "outputs": [],
   "source": [
    "nt1, nt2, nt3, nt4 = float(input('digite a nota 1')), float(input('digite a nota 2')), float(input('digite a nota 3')), float(input('digite a nota 4'))\n",
    "\n",
    "media  = (nt1 + nt2 + nt3 + nt4) / 4\n",
    "\n",
    "print(f'a média é: {media}')"
   ]
  },
  {
   "cell_type": "markdown",
   "id": "0f5368e9-a0d5-4e38-bc36-71b9024fb4a0",
   "metadata": {},
   "source": [
    "Faça um Programa que converta metros para centímetros.\n"
   ]
  },
  {
   "cell_type": "code",
   "execution_count": null,
   "id": "2473ae58-310c-4793-95e1-e159a6eabf33",
   "metadata": {},
   "outputs": [],
   "source": [
    "metros = float(input('Digite quantos metro: '))\n",
    "centimetros = metros * 100\n",
    "print(f'{metros} metros são {centimetros} centimetros')"
   ]
  },
  {
   "cell_type": "markdown",
   "id": "5fb640d4-6f76-4dc5-8ed5-e0a51450e37b",
   "metadata": {},
   "source": [
    "Faça um Programa que peça o raio de um círculo, calcule e mostre sua área."
   ]
  },
  {
   "cell_type": "code",
   "execution_count": null,
   "id": "f96c5700-7501-40d7-ab12-18861c1ff959",
   "metadata": {},
   "outputs": [],
   "source": [
    "raio = float(input('digite o raio do circulo: '))\n",
    "area = 3.14 * raio ** 2\n",
    "print(f'A área do circulo é {area:.2f}')"
   ]
  },
  {
   "cell_type": "markdown",
   "id": "25fa7525-5e65-4052-850c-e91bf30d349e",
   "metadata": {},
   "source": [
    "Faça um Programa que calcule a área de um quadrado, em seguida mostre o dobro desta área para o usuário."
   ]
  },
  {
   "cell_type": "code",
   "execution_count": null,
   "id": "63cfc767-2255-41f3-ae4b-1b1e372f434e",
   "metadata": {},
   "outputs": [],
   "source": [
    "lado = float(input('digite o lado do quadrado: '))\n",
    "area = lado ** 2\n",
    "print(f'{area} -> Area do quadrado \\n{area**2} -> dobro da área')"
   ]
  },
  {
   "cell_type": "markdown",
   "id": "65b62650-96b5-4de2-a246-3b418286f20e",
   "metadata": {},
   "source": [
    "Faça um Programa que pergunte quanto você ganha por hora e o número de horas trabalhadas no mês. Calcule e mostre o total do seu salário no referido mês."
   ]
  },
  {
   "cell_type": "code",
   "execution_count": null,
   "id": "89577bb7-8e8b-4be7-9e4d-6c32ac44a3b4",
   "metadata": {},
   "outputs": [],
   "source": [
    "Gh = float(input('Digite o quanto você ganha por Hora: '))\n",
    "Ht = int(input('digite quantas horas você trabalhou no mês: '))\n",
    "\n",
    "salario = Gh * Ht\n",
    "\n",
    "print(f'Seu sálario: {salario}')"
   ]
  },
  {
   "cell_type": "markdown",
   "id": "38065103-8798-480e-b3cf-6b0f292191e1",
   "metadata": {},
   "source": [
    "Faça um Programa que peça a temperatura em graus Fahrenheit, transforme e mostre a temperatura em graus Celsius.\n",
    "\n",
    "    C = 5 * ((F-32) / 9). "
   ]
  },
  {
   "cell_type": "code",
   "execution_count": null,
   "id": "ea7735f8-4dba-4322-98d1-b5cd2a270b41",
   "metadata": {},
   "outputs": [],
   "source": [
    "Tf = float(input('digite quantos graus em Fahrenheit'))\n",
    "\n",
    "C = 5 * ((Tf - 32) / 9)\n",
    "\n",
    "print(f'valor da temperatura em graus Celsius {C}')"
   ]
  },
  {
   "cell_type": "markdown",
   "id": "b9d3c1d1-9363-4405-bd39-763cae672afb",
   "metadata": {},
   "source": [
    "Faça um Programa que peça a temperatura em graus Celsius, transforme e mostre em graus Fahrenheit.\n"
   ]
  },
  {
   "cell_type": "code",
   "execution_count": null,
   "id": "4b77b334-8bb8-40ab-be6e-2bd4ff3c48ba",
   "metadata": {},
   "outputs": [],
   "source": [
    "C = float(input('digite quantos graus em Celsius'))\n",
    "\n",
    "Tf = (C - 32) * 5/9\n",
    "\n",
    "print(f'valor da temperatura em graus Fahrenheit {Tf}')"
   ]
  },
  {
   "cell_type": "markdown",
   "id": "37ad8e31-6752-48f6-a7ac-9b36bd45e261",
   "metadata": {},
   "source": [
    "Faça um Programa que peça 2 números inteiros e um número real. Calcule e mostre:\n",
    "\n",
    "    o produto do dobro do primeiro com metade do segundo .\n",
    "    a soma do triplo do primeiro com o terceiro.\n",
    "    o terceiro elevado ao cubo. \n"
   ]
  },
  {
   "cell_type": "code",
   "execution_count": null,
   "id": "ad3f10b2-fb9f-47ec-89c1-c5c413b79a6d",
   "metadata": {},
   "outputs": [],
   "source": [
    "n1, n2, nr1 = int(input('')) , int(input('')), float(input(''))\n",
    "\n",
    "a = (n1*2) * (n2/2)\n",
    "b = (3*n1) + nr1\n",
    "c = nr1 ** 3\n",
    "\n",
    "print(f'o produto do dobro do primeiro com metade do segundo {a}\\na soma do triplo do primeiro com o terceiro {b}\\no terceiro elevado ao cubo {c}')"
   ]
  },
  {
   "cell_type": "markdown",
   "id": "85f8ff3f-6d61-4778-8096-fabfc604cb42",
   "metadata": {},
   "source": [
    "Tendo como dados de entrada a altura de uma pessoa, construa um algoritmo que calcule seu peso ideal\n",
    "usando a seguinte fórmula: (72.7*altura) - 58"
   ]
  },
  {
   "cell_type": "code",
   "execution_count": null,
   "id": "3aa6da06-b45d-4193-b647-434c43cd38b8",
   "metadata": {},
   "outputs": [],
   "source": [
    "alt_p = float(input(''))\n",
    "pesoIdeal = (72.7 * alt_p) - 58\n",
    "\n",
    "print(f'o peso ideal é {pesoIdeal}')"
   ]
  },
  {
   "metadata": {},
   "cell_type": "markdown",
   "source": [
    "Tendo como dado de entrada a altura (h) de uma pessoa, construa um algoritmo que calcule seu peso ideal, utilizando as seguintes fórmulas:\n",
    "\n",
    "    Para homens: (72.7*h) - 58\n",
    "    Para mulheres: (62.1*h) - 44.7"
   ],
   "id": "4f483ddef28bc3fc"
  },
  {
   "metadata": {
    "ExecuteTime": {
     "end_time": "2025-04-19T10:20:34.169869Z",
     "start_time": "2025-04-19T10:20:24.451510Z"
    }
   },
   "cell_type": "code",
   "source": [
    "alth = float(input('digite a sua altura: '))\n",
    "\n",
    "h = (72.7 * alth) - 58\n",
    "m = (62.1 * alth) - 44.7\n",
    "\n",
    "print(f'o seu peso ideal \\nmulher: {m}\\nhomem: {h}')"
   ],
   "id": "f1221ce3f1848e4e",
   "outputs": [
    {
     "name": "stdout",
     "output_type": "stream",
     "text": [
      "o seu peso ideal \n",
      "mulher: 60.86999999999999\n",
      "homem: 65.59\n"
     ]
    }
   ],
   "execution_count": 1
  },
  {
   "metadata": {},
   "cell_type": "markdown",
   "source": "João Papo-de-Pescador, homem de bem, comprou um microcomputador para controlar o rendimento diário de seu trabalho. Toda vez que ele traz um peso de peixes maior que o estabelecido pelo regulamento de pesca do estado de São Paulo (50 quilos) deve pagar uma multa de R$ 4,00 por quilo excedente. João precisa que você faça um programa que leia a variável peso (peso de peixes) e calcule o excesso. Gravar na variável excesso a quantidade de quilos além do limite e na variável multa o valor da multa que João deverá pagar. Imprima os dados do programa com as mensagens adequadas.\n",
   "id": "19c46fd521c0fc8a"
  },
  {
   "metadata": {},
   "cell_type": "code",
   "outputs": [],
   "execution_count": null,
   "source": "",
   "id": "e2fcef7edb4775fe"
  },
  {
   "metadata": {},
   "cell_type": "markdown",
   "source": [
    "Faça um Programa que pergunte quanto você ganha por hora e o número de horas trabalhadas no mês. Calcule e mostre o total do seu salário no referido mês, sabendo-se que são descontados 11% para o Imposto de Renda, 8% para o INSS e 5% para o sindicato, faça um programa que nos dê:\n",
    "\n",
    "    salário bruto.\n",
    "    quanto pagou ao INSS.\n",
    "    quanto pagou ao sindicato.\n",
    "    o salário líquido.\n",
    "    calcule os descontos e o salário líquido, conforme a tabela abaixo:\n",
    "\n",
    "    + Salário Bruto : R$\n",
    "    - IR (11%) : R$\n",
    "    - INSS (8%) : R$\n",
    "    - Sindicato ( 5%) : R$\n",
    "    = Salário Liquido : R$\n",
    "\n",
    "    Obs.: Salário Bruto - Descontos = Salário Líquido. "
   ],
   "id": "5b05ca504a406f3d"
  },
  {
   "metadata": {},
   "cell_type": "code",
   "outputs": [],
   "execution_count": null,
   "source": "",
   "id": "3a38e6e6ed247181"
  },
  {
   "metadata": {},
   "cell_type": "markdown",
   "source": "Faça um programa para uma loja de tintas. O programa deverá pedir o tamanho em metros quadrados da área a ser pintada. Considere que a cobertura da tinta é de 1 litro para cada 3 metros quadrados e que a tinta é vendida em latas de 18 litros, que custam R$ 80,00. Informe ao usuário a quantidades de latas de tinta a serem compradas e o preço total.",
   "id": "450eb6514cfd306b"
  },
  {
   "metadata": {},
   "cell_type": "code",
   "outputs": [],
   "execution_count": null,
   "source": "",
   "id": "66cc0c453b3a2ca1"
  },
  {
   "metadata": {},
   "cell_type": "markdown",
   "source": "Faça um Programa para uma loja de tintas. O programa deverá pedir o tamanho em metros quadrados da área a ser pintada. Considere que a cobertura da tinta é de 1 litro para  cada 6 metros quadrados e que a tinta é vendida em latas de 18 litros, que custam RS  80,00 ou em galões de 3,6 litros, que custam RS 25,00.",
   "id": "e45c79d4d8cdb6ac"
  },
  {
   "metadata": {},
   "cell_type": "code",
   "outputs": [],
   "execution_count": null,
   "source": "",
   "id": "2b88c98056c37d27"
  },
  {
   "metadata": {},
   "cell_type": "markdown",
   "source": [
    "    Informe ao usuário as quantidades de tinta a serem compradas e os respectivos preços em 3 situações:\n",
    "    comprar apenas latas de 18 litros;\n",
    "    comprar apenas galões de 3,6 litros;\n",
    "    misturar latas e galões, de forma que o desperdício de tinta seja menor. Acrescente 10% de folga e sempre arredonde os valores para cima, isto é, considere latas cheias."
   ],
   "id": "539a53cb568f0d5d"
  },
  {
   "metadata": {},
   "cell_type": "code",
   "outputs": [],
   "execution_count": null,
   "source": "",
   "id": "d3cd33cd37b6cc7a"
  },
  {
   "metadata": {},
   "cell_type": "markdown",
   "source": "Faça um programa que peça o tamanho de um arquivo para download (em MB) e a velocidade de um link de Internet (em Mbps), calcule e informe o tempo aproximado de download do arquivo usando este link (em minutos). ",
   "id": "d4d768943f86b836"
  },
  {
   "metadata": {},
   "cell_type": "code",
   "outputs": [],
   "execution_count": null,
   "source": "",
   "id": "116b3ca657a3b298"
  }
 ],
 "metadata": {
  "kernelspec": {
   "display_name": "Python 3 (ipykernel)",
   "language": "python",
   "name": "python3"
  },
  "language_info": {
   "codemirror_mode": {
    "name": "ipython",
    "version": 3
   },
   "file_extension": ".py",
   "mimetype": "text/x-python",
   "name": "python",
   "nbconvert_exporter": "python",
   "pygments_lexer": "ipython3",
   "version": "3.13.2"
  }
 },
 "nbformat": 4,
 "nbformat_minor": 5
}
