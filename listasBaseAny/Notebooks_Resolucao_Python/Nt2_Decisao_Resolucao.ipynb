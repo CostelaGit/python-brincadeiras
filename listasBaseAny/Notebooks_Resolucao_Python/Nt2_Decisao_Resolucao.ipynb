{
 "cells": [
  {
   "cell_type": "markdown",
   "id": "ec06103c",
   "metadata": {},
   "source": [
    "Seguindo a listaBaseAny, \n",
    "\n",
    "1. Sequencia \n",
    "2. Decisão  ⬅\n",
    "3. Repetição\n",
    "4. Lista\n",
    "5. Função\n",
    "6. ComString\n",
    "7. ComArquivo\n",
    "8. Classes\n"
   ]
  },
  {
   "cell_type": "markdown",
   "id": "a07aaac6",
   "metadata": {},
   "source": [
    "Faça um Programa que peça dois números e imprima o maior deles."
   ]
  },
  {
   "cell_type": "code",
   "execution_count": null,
   "id": "67aa1009",
   "metadata": {},
   "outputs": [],
   "source": [
    "num1 = float(input('digite o primeiro numero: '))\n",
    "num2 = float(input('digite o segundo numero: '))\n",
    "\n",
    "print(num1) if num1 > num2 else print(num2)"
   ]
  },
  {
   "cell_type": "markdown",
   "id": "4fe64cbb",
   "metadata": {},
   "source": [
    "Faça um Programa que peça um valor e mostre na tela se o valor é positivo ou negativo.\n"
   ]
  },
  {
   "cell_type": "code",
   "execution_count": null,
   "id": "0c68345c",
   "metadata": {},
   "outputs": [],
   "source": [
    "x = float(input('digite o valor: '))\n",
    "\n",
    "print('é positivo') if x > 0 else print('é 0') if x == 0 else print('é negativo')"
   ]
  },
  {
   "cell_type": "markdown",
   "id": "460a205f",
   "metadata": {},
   "source": [
    "Faça um Programa que verifique se uma letra digitada é \"F\" ou \"M\". Conforme a letra escrever: F - Feminino, M - Masculino, Sexo Inválido.\n"
   ]
  },
  {
   "cell_type": "code",
   "execution_count": 5,
   "id": "7efa9381",
   "metadata": {},
   "outputs": [
    {
     "name": "stdout",
     "output_type": "stream",
     "text": [
      "erro, nenhum das alternativas foram digitadas\n"
     ]
    }
   ],
   "source": [
    "s = input('digite F - Feminino ou M - Masculino: ').capitalize()\n",
    "\n",
    "print('Feminino') if s == 'F' else print('Masculino') if s == 'M' else print('erro, nenhum das alternativas foram digitadas')"
   ]
  }
 ],
 "metadata": {
  "kernelspec": {
   "display_name": "Python 3 (ipykernel)",
   "language": "python",
   "name": "python3"
  },
  "language_info": {
   "codemirror_mode": {
    "name": "ipython",
    "version": 3
   },
   "file_extension": ".py",
   "mimetype": "text/x-python",
   "name": "python",
   "nbconvert_exporter": "python",
   "pygments_lexer": "ipython3",
   "version": "3.13.2"
  }
 },
 "nbformat": 4,
 "nbformat_minor": 5
}
