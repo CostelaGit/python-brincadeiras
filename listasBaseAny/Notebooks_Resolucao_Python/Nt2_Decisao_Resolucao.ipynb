{
 "cells": [
  {
   "cell_type": "markdown",
   "id": "ec06103c",
   "metadata": {},
   "source": [
    "Seguindo a listaBaseAny, \n",
    "\n",
    "1. Sequencia \n",
    "2. Decisão  ⬅\n",
    "3. Repetição\n",
    "4. Lista\n",
    "5. Função\n",
    "6. ComString\n",
    "7. ComArquivo\n",
    "8. Classes\n"
   ]
  },
  {
   "cell_type": "markdown",
   "id": "a07aaac6",
   "metadata": {},
   "source": [
    "Faça um Programa que peça dois números e imprima o maior deles."
   ]
  },
  {
   "cell_type": "code",
   "execution_count": null,
   "id": "67aa1009",
   "metadata": {},
   "outputs": [],
   "source": [
    "num1 = float(input('digite o primeiro numero: '))\n",
    "num2 = float(input('digite o segundo numero: '))\n",
    "\n",
    "print(num1) if num1 > num2 else print(num2)"
   ]
  },
  {
   "cell_type": "markdown",
   "id": "4fe64cbb",
   "metadata": {},
   "source": [
    "Faça um Programa que peça um valor e mostre na tela se o valor é positivo ou negativo.\n"
   ]
  },
  {
   "cell_type": "code",
   "execution_count": null,
   "id": "0c68345c",
   "metadata": {},
   "outputs": [],
   "source": [
    "x = float(input('digite o valor: '))\n",
    "\n",
    "print('é positivo') if x > 0 else print('é 0') if x == 0 else print('é negativo')"
   ]
  },
  {
   "cell_type": "markdown",
   "id": "460a205f",
   "metadata": {},
   "source": [
    "Faça um Programa que verifique se uma letra digitada é \"F\" ou \"M\". Conforme a letra escrever: F - Feminino, M - Masculino, Sexo Inválido.\n"
   ]
  },
  {
   "cell_type": "code",
   "execution_count": 5,
   "id": "7efa9381",
   "metadata": {},
   "outputs": [
    {
     "name": "stdout",
     "output_type": "stream",
     "text": [
      "erro, nenhum das alternativas foram digitadas\n"
     ]
    }
   ],
   "source": [
    "s = input('digite F - Feminino ou M - Masculino: ').capitalize()\n",
    "\n",
    "print('Feminino') if s == 'F' else print('Masculino') if s == 'M' else print('erro, nenhum das alternativas foram digitadas')"
   ]
  },
  {
   "metadata": {},
   "cell_type": "markdown",
   "source": "Faça um Programa que verifique se uma letra digitada é vogal ou consoante.\n",
   "id": "158c70f1d5712332"
  },
  {
   "metadata": {
    "ExecuteTime": {
     "end_time": "2025-04-19T10:26:07.489943Z",
     "start_time": "2025-04-19T10:26:06.407610Z"
    }
   },
   "cell_type": "code",
   "source": [
    "#acho q isso aqui o negocio é saber se sabe utilizar if e else elif.\n",
    "#considerando que o usuario não vai colocar numeros...\n",
    "\n",
    "letra = input('digite uma letra: ')\n",
    "if letra == 'a':\n",
    "    print('é uma vogal')\n",
    "elif letra == 'e':\n",
    "    print('é uma vogal')\n",
    "elif letra == 'i':\n",
    "    print('é uma vogal')\n",
    "elif letra == 'o':\n",
    "    print('é uma vogal')\n",
    "elif letra == 'u':\n",
    "    print('é uma vogal')\n",
    "else:\n",
    "    print('é uma consoante')"
   ],
   "id": "862110934ab48e87",
   "outputs": [
    {
     "name": "stdout",
     "output_type": "stream",
     "text": [
      "é uma consoante\n"
     ]
    }
   ],
   "execution_count": 6
  },
  {
   "metadata": {},
   "cell_type": "markdown",
   "source": [
    "Faça um programa para a leitura de duas notas parciais de um aluno. O programa deve calcular a média alcançada por aluno e apresentar:\n",
    "\n",
    "    A mensagem \"Aprovado\", se a média alcançada for maior ou igual a sete;\n",
    "    A mensagem \"Reprovado\", se a média for menor do que sete;\n",
    "    A mensagem \"Aprovado com Distinção\", se a média for igual a dez.\n"
   ],
   "id": "82a52a6e99e48fd9"
  },
  {
   "metadata": {},
   "cell_type": "code",
   "outputs": [],
   "execution_count": null,
   "source": "",
   "id": "819142ad93b435ca"
  },
  {
   "metadata": {},
   "cell_type": "markdown",
   "source": "Faça um Programa que leia três números e mostre o maior deles.\n",
   "id": "be9410bac312c2a2"
  },
  {
   "metadata": {},
   "cell_type": "code",
   "outputs": [],
   "execution_count": null,
   "source": "",
   "id": "f0abf11bb9236bef"
  },
  {
   "metadata": {},
   "cell_type": "markdown",
   "source": "Faça um Programa que leia três números e mostre o maior e o menor deles.\n",
   "id": "f447b520f0e76146"
  },
  {
   "metadata": {},
   "cell_type": "code",
   "outputs": [],
   "execution_count": null,
   "source": "",
   "id": "12c492bbb2b59020"
  },
  {
   "metadata": {},
   "cell_type": "markdown",
   "source": "Faça um programa que pergunte o preço de três produtos e informe qual produto você deve comprar, sabendo que a decisão é sempre pelo mais barato.\n",
   "id": "a401bb2e9b50b35a"
  },
  {
   "metadata": {},
   "cell_type": "code",
   "outputs": [],
   "execution_count": null,
   "source": "",
   "id": "a42b627e2015f2fb"
  },
  {
   "metadata": {},
   "cell_type": "markdown",
   "source": "Faça um Programa que leia três números e mostre-os em ordem decrescente.\n",
   "id": "34ac8855c41e09d4"
  },
  {
   "metadata": {},
   "cell_type": "code",
   "outputs": [],
   "execution_count": null,
   "source": "",
   "id": "9d55ad632b9955a9"
  },
  {
   "metadata": {},
   "cell_type": "markdown",
   "source": "Faça um Programa que pergunte em que turno você estuda. Peça para digitar M-matutino ou V-Vespertino ou N- Noturno. Imprima a mensagem \"Bom Dia!\", \"Boa Tarde!\" ou \"Boa Noite!\" ou \"Valor Inválido!\", conforme o caso.\n",
   "id": "4a51a1377a42def2"
  },
  {
   "metadata": {},
   "cell_type": "code",
   "outputs": [],
   "execution_count": null,
   "source": "",
   "id": "cea11dacc62ff4a7"
  },
  {
   "metadata": {},
   "cell_type": "markdown",
   "source": [
    "As Organizações Tabajara resolveram dar um aumento de salário aos seus colaboradores e lhe contraram para desenvolver o programa que calculará os reajustes.\n",
    "\n",
    "    Faça um programa que recebe o salário de um colaborador e o reajuste segundo o seguinte critério, baseado no salário atual:\n",
    "    salários até R$ 280,00 (incluindo) : aumento de 20%\n",
    "    salários entre R$ 280,00 e R$ 700,00 : aumento de 15%\n",
    "    salários entre R$ 700,00 e R$ 1500,00 : aumento de 10%\n",
    "    salários de R$ 1500,00 em diante : aumento de 5% Após o aumento ser realizado, informe na tela:\n",
    "    o salário antes do reajuste;\n",
    "    o percentual de aumento aplicado;\n",
    "    o valor do aumento;\n",
    "    o novo salário, após o aumento. "
   ],
   "id": "e1170d4d12215822"
  },
  {
   "metadata": {},
   "cell_type": "code",
   "outputs": [],
   "execution_count": null,
   "source": "",
   "id": "fd568f2f3cfbc71e"
  }
 ],
 "metadata": {
  "kernelspec": {
   "display_name": "Python 3 (ipykernel)",
   "language": "python",
   "name": "python3"
  },
  "language_info": {
   "codemirror_mode": {
    "name": "ipython",
    "version": 3
   },
   "file_extension": ".py",
   "mimetype": "text/x-python",
   "name": "python",
   "nbconvert_exporter": "python",
   "pygments_lexer": "ipython3",
   "version": "3.13.2"
  }
 },
 "nbformat": 4,
 "nbformat_minor": 5
}
