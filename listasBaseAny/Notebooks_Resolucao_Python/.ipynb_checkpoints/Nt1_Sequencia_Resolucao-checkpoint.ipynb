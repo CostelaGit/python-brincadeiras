{
 "cells": [
  {
   "cell_type": "markdown",
   "id": "ec06103c",
   "metadata": {},
   "source": [
    "Seguindo a listaBaseAny, \n",
    "\n",
    "1. Sequencia ⬅\n",
    "2. Decisão\n",
    "3. Repetição\n",
    "4. Lista\n",
    "5. Função\n",
    "6. ComString\n",
    "7. ComArquivo\n",
    "8. Classes\n"
   ]
  },
  {
   "cell_type": "markdown",
   "id": "a08fcca8",
   "metadata": {},
   "source": [
    "Faça um Programa que mostre a mensagem \"Alo mundo\" na tela."
   ]
  },
  {
   "cell_type": "code",
   "execution_count": null,
   "id": "a8b9e216",
   "metadata": {},
   "outputs": [],
   "source": [
    "print('Alo mundo')"
   ]
  },
  {
   "cell_type": "markdown",
   "id": "40b9b6a6",
   "metadata": {},
   "source": [
    "Faça um Programa que peça um número e então mostre a mensagem O número informado foi [número].\n"
   ]
  },
  {
   "cell_type": "code",
   "execution_count": null,
   "id": "a3f4ddf4",
   "metadata": {},
   "outputs": [],
   "source": [
    "x = float(input('digite um numero: '))\n",
    "print(f'o numero informado foi {x}')"
   ]
  },
  {
   "cell_type": "markdown",
   "id": "8fd3a82f",
   "metadata": {},
   "source": [
    "Faça um Programa que peça dois números e imprima a soma."
   ]
  },
  {
   "cell_type": "code",
   "execution_count": null,
   "id": "5999cbbd",
   "metadata": {},
   "outputs": [],
   "source": [
    "num1 = float(input('digite o primeiro numero: '))\n",
    "num2 = float(input('digite o segundo numero: '))\n",
    "\n",
    "soma = num1 + num2\n",
    "\n",
    "print(f'a soma dos dois numeros são: {soma}')"
   ]
  },
  {
   "cell_type": "markdown",
   "id": "4b13a1ff",
   "metadata": {},
   "source": [
    "Faça um Programa que peça as 4 notas bimestrais e mostre a média."
   ]
  },
  {
   "cell_type": "code",
   "execution_count": null,
   "id": "c49705a7",
   "metadata": {},
   "outputs": [],
   "source": [
    "nt1, nt2, nt3, nt4 = float(input('digite a nota 1')), float(input('digite a nota 2')), float(input('digite a nota 3')), float(input('digite a nota 4'))\n",
    "\n",
    "media  = (nt1 + nt2 + nt3 + nt4) / 4\n",
    "\n",
    "print(f'a média é: {media}')"
   ]
  },
  {
   "cell_type": "markdown",
   "id": "0f5368e9-a0d5-4e38-bc36-71b9024fb4a0",
   "metadata": {},
   "source": [
    "Faça um Programa que converta metros para centímetros.\n"
   ]
  },
  {
   "cell_type": "code",
   "execution_count": null,
   "id": "2473ae58-310c-4793-95e1-e159a6eabf33",
   "metadata": {},
   "outputs": [],
   "source": [
    "metros = float(input('Digite quantos metro: '))\n",
    "centimetros = metros * 100\n",
    "print(f'{metros} metros são {centimetros} centimetros')"
   ]
  },
  {
   "cell_type": "markdown",
   "id": "5fb640d4-6f76-4dc5-8ed5-e0a51450e37b",
   "metadata": {},
   "source": [
    "Faça um Programa que peça o raio de um círculo, calcule e mostre sua área."
   ]
  },
  {
   "cell_type": "code",
   "execution_count": null,
   "id": "f96c5700-7501-40d7-ab12-18861c1ff959",
   "metadata": {},
   "outputs": [],
   "source": [
    "raio = float(input('digite o raio do circulo: '))\n",
    "area = 3.14 * raio ** 2\n",
    "print(f'A área do circulo é {area:.2f}')"
   ]
  },
  {
   "cell_type": "markdown",
   "id": "25fa7525-5e65-4052-850c-e91bf30d349e",
   "metadata": {},
   "source": [
    "Faça um Programa que calcule a área de um quadrado, em seguida mostre o dobro desta área para o usuário."
   ]
  },
  {
   "cell_type": "code",
   "execution_count": null,
   "id": "63cfc767-2255-41f3-ae4b-1b1e372f434e",
   "metadata": {},
   "outputs": [],
   "source": [
    "lado = float(input('digite o lado do quadrado: '))\n",
    "area = lado ** 2\n",
    "print(f'{area} -> Area do quadrado \\n{area**2} -> dobro da área')"
   ]
  },
  {
   "cell_type": "markdown",
   "id": "65b62650-96b5-4de2-a246-3b418286f20e",
   "metadata": {},
   "source": [
    "Faça um Programa que pergunte quanto você ganha por hora e o número de horas trabalhadas no mês. Calcule e mostre o total do seu salário no referido mês."
   ]
  },
  {
   "cell_type": "code",
   "execution_count": null,
   "id": "89577bb7-8e8b-4be7-9e4d-6c32ac44a3b4",
   "metadata": {},
   "outputs": [],
   "source": [
    "Gh = float(input('Digite o quanto você ganha por Hora: '))\n",
    "Ht = int(input('digite quantas horas você trabalhou no mês: '))\n",
    "\n",
    "salario = Gh * Ht\n",
    "\n",
    "print(f'Seu sálario: {salario}')"
   ]
  },
  {
   "cell_type": "markdown",
   "id": "38065103-8798-480e-b3cf-6b0f292191e1",
   "metadata": {},
   "source": [
    "Faça um Programa que peça a temperatura em graus Fahrenheit, transforme e mostre a temperatura em graus Celsius.\n",
    "\n",
    "    C = 5 * ((F-32) / 9). "
   ]
  },
  {
   "cell_type": "code",
   "execution_count": null,
   "id": "ea7735f8-4dba-4322-98d1-b5cd2a270b41",
   "metadata": {},
   "outputs": [],
   "source": [
    "Tf = float(input('digite quantos graus em Fahrenheit'))\n",
    "\n",
    "C = 5 * ((Tf - 32) / 9)\n",
    "\n",
    "print(f'valor da temperatura em graus Celsius {C}')"
   ]
  },
  {
   "cell_type": "markdown",
   "id": "b9d3c1d1-9363-4405-bd39-763cae672afb",
   "metadata": {},
   "source": [
    "Faça um Programa que peça a temperatura em graus Celsius, transforme e mostre em graus Fahrenheit.\n"
   ]
  },
  {
   "cell_type": "code",
   "execution_count": null,
   "id": "4b77b334-8bb8-40ab-be6e-2bd4ff3c48ba",
   "metadata": {},
   "outputs": [],
   "source": [
    "C = float(input('digite quantos graus em Celsius'))\n",
    "\n",
    "Tf = (C - 32) * 5/9\n",
    "\n",
    "print(f'valor da temperatura em graus Fahrenheit {Tf}')"
   ]
  },
  {
   "cell_type": "markdown",
   "id": "37ad8e31-6752-48f6-a7ac-9b36bd45e261",
   "metadata": {},
   "source": [
    "Faça um Programa que peça 2 números inteiros e um número real. Calcule e mostre:\n",
    "\n",
    "    o produto do dobro do primeiro com metade do segundo .\n",
    "    a soma do triplo do primeiro com o terceiro.\n",
    "    o terceiro elevado ao cubo. \n"
   ]
  },
  {
   "cell_type": "code",
   "execution_count": null,
   "id": "ad3f10b2-fb9f-47ec-89c1-c5c413b79a6d",
   "metadata": {},
   "outputs": [],
   "source": [
    "n1, n2, nr1 = int(input('')) , int(input('')), float(input(''));\n",
    "\n",
    "a = (n1*2) * (n2/2)\n",
    "b = (3*n1) + (nr1)\n",
    "c = nr1 ** 3\n",
    "\n",
    "print(f'o produto do dobro do primeiro com metade do segundo {a}\\na soma do triplo do primeiro com o terceiro {b}\\no terceiro elevado ao cubo {c}')"
   ]
  },
  {
   "cell_type": "markdown",
   "id": "85f8ff3f-6d61-4778-8096-fabfc604cb42",
   "metadata": {},
   "source": [
    "Tendo como dados de entrada a altura de uma pessoa, construa um algoritmo que calcule seu peso ideal\n",
    "usando a seguinte fórmula: (72.7*altura) - 58"
   ]
  },
  {
   "cell_type": "code",
   "execution_count": null,
   "id": "3aa6da06-b45d-4193-b647-434c43cd38b8",
   "metadata": {},
   "outputs": [],
   "source": [
    "alt_p = float(input(''))\n",
    "pesoIdeal = (72.7 * alt_p) - 58\n",
    "\n",
    "print(f'o peso ideal é {pesoIdeal}')"
   ]
  },
  {
   "cell_type": "code",
   "execution_count": null,
   "id": "ca6cb7b6-7e67-473e-815e-aea364e0af68",
   "metadata": {},
   "outputs": [],
   "source": []
  }
 ],
 "metadata": {
  "kernelspec": {
   "display_name": "Python 3 (ipykernel)",
   "language": "python",
   "name": "python3"
  },
  "language_info": {
   "codemirror_mode": {
    "name": "ipython",
    "version": 3
   },
   "file_extension": ".py",
   "mimetype": "text/x-python",
   "name": "python",
   "nbconvert_exporter": "python",
   "pygments_lexer": "ipython3",
   "version": "3.13.2"
  }
 },
 "nbformat": 4,
 "nbformat_minor": 5
}
